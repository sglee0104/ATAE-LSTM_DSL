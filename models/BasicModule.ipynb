{
 "cells": [
  {
   "cell_type": "code",
   "execution_count": 1,
   "metadata": {},
   "outputs": [],
   "source": [
    "#coding:utf-8\n",
    "import torch as t\n",
    "import time"
   ]
  },
  {
   "cell_type": "code",
   "execution_count": 3,
   "metadata": {},
   "outputs": [],
   "source": [
    "import sys\n",
    "sys.path.append('C:/Users/SEONGGYUN/ATAE-LSTM/ATAE-LSTM') #MyCSQA ??\n",
    "import Ipynb_importer\n",
    "from config import opt"
   ]
  },
  {
   "cell_type": "code",
   "execution_count": 4,
   "metadata": {},
   "outputs": [],
   "source": [
    "class BasicModule(t.nn.Module):\n",
    "    '''\n",
    "    封装了nn.Module\n",
    "    提供save和load两个方法\n",
    "    '''\n",
    "    \n",
    "    def __init__(self):\n",
    "        super(BasicModule, self).__init__()\n",
    "        self.model_name = str(type(self))[8:-2]\n",
    "        return\n",
    "    \n",
    "    def load(self, path):\n",
    "        '''\n",
    "        可加载指定路径的模型\n",
    "        '''\n",
    "        self.load_state_dict(t.load(path))\n",
    "        return\n",
    "    \n",
    "    def save(self, name=None, acc=\"\"):\n",
    "        '''\n",
    "        保存模型 默认使用“模型名字+时间”作为文件名\n",
    "        '''\n",
    "        if name is None:\n",
    "            prefix = opt.base_root + 'checkpoints/' + self.model_name + '_' + acc\n",
    "            name = time.strftime(prefix + '_%m_%d__%H_%M_%S.pth')\n",
    "        t.save(self.state_dict(), name)\n",
    "        return name"
   ]
  },
  {
   "cell_type": "code",
   "execution_count": 5,
   "metadata": {},
   "outputs": [],
   "source": [
    "class Flat(t.nn.Module):\n",
    "    '''\n",
    "    把输入reshape成 (batch_size, dim_length)\n",
    "    '''\n",
    "    \n",
    "    def __init__(self):\n",
    "        super(Flat, self).__init__()\n",
    "        # self.size = size\n",
    "        return\n",
    "    \n",
    "    def forward(self, x):\n",
    "        return x.view(x.size(0), -1)"
   ]
  },
  {
   "cell_type": "code",
   "execution_count": null,
   "metadata": {},
   "outputs": [],
   "source": []
  }
 ],
 "metadata": {
  "kernelspec": {
   "display_name": "Python 3",
   "language": "python",
   "name": "python3"
  },
  "language_info": {
   "codemirror_mode": {
    "name": "ipython",
    "version": 3
   },
   "file_extension": ".py",
   "mimetype": "text/x-python",
   "name": "python",
   "nbconvert_exporter": "python",
   "pygments_lexer": "ipython3",
   "version": "3.6.13"
  }
 },
 "nbformat": 4,
 "nbformat_minor": 2
}
