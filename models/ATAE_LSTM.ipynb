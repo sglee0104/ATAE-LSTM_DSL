{
 "cells": [
  {
   "cell_type": "code",
   "execution_count": 1,
   "metadata": {},
   "outputs": [],
   "source": [
    "#coding:utf-8\n",
    "import torch as t\n",
    "import numpy as np\n",
    "from torch import nn\n",
    "from torch.utils.data import DataLoader\n",
    "import ipdb"
   ]
  },
  {
   "cell_type": "code",
   "execution_count": 2,
   "metadata": {
    "scrolled": true
   },
   "outputs": [
    {
     "name": "stdout",
     "output_type": "stream",
     "text": [
      "importing Jupyter notebook from C:/Users/SEONGGYUN/ATAE-LSTM/ATAE-LSTM\\data\\Embedding.ipynb\n",
      "importing Jupyter notebook from C:/Users/SEONGGYUN/ATAE-LSTM/ATAE-LSTM\\models\\BasicModule.ipynb\n",
      "importing Jupyter notebook from C:/Users/SEONGGYUN/ATAE-LSTM/ATAE-LSTM\\data\\AspClas.ipynb\n"
     ]
    },
    {
     "name": "stderr",
     "output_type": "stream",
     "text": [
      "[nltk_data] Downloading package punkt to\n",
      "[nltk_data]     C:\\Users\\SEONGGYUN\\AppData\\Roaming\\nltk_data...\n",
      "[nltk_data]   Package punkt is already up-to-date!\n"
     ]
    }
   ],
   "source": [
    "import sys\n",
    "sys.path.append('C:/Users/SEONGGYUN/ATAE-LSTM/ATAE-LSTM')\n",
    "import Ipynb_importer\n",
    "from config import opt\n",
    "from data.Embedding import Emb\n",
    "from models.BasicModule import BasicModule\n",
    "from data.AspClas import AspClas"
   ]
  },
  {
   "cell_type": "code",
   "execution_count": 3,
   "metadata": {},
   "outputs": [],
   "source": [
    "class ATAE_LSTM(BasicModule):\n",
    "    def __init__(self, emb):\n",
    "        super(ATAE_LSTM, self).__init__()\n",
    "        \n",
    "        self.embedding = emb._make_layer_()\n",
    "        \n",
    "        self.lstm = nn.LSTM(opt.hidden_size*2, opt.hidden_size, batch_first=True)\n",
    "        for k in self.lstm.state_dict().keys():\n",
    "            self.lstm.state_dict()[k].uniform_(-opt.epsilon, opt.epsilon)\n",
    "        \n",
    "        \"\"\"\n",
    "        self.hidden=(\n",
    "            # 三个参数分别为 num_layers, batch_size, hidden_size\n",
    "            t.nn.Parameter(\n",
    "                t.Tensor(\n",
    "                    np.random.uniform(-opt.epsilon, opt.epsilon, opt.hidden_size)\n",
    "                ).view(1,1,opt.hidden_size)\n",
    "            ),\n",
    "            t.nn.Parameter(\n",
    "                t.Tensor(\n",
    "                    np.random.uniform(-opt.epsilon, opt.epsilon, opt.hidden_size)\n",
    "                ).view(1,1,opt.hidden_size)\n",
    "            )\n",
    "        )\"\"\"\n",
    "        self.h0 = t.nn.Parameter(t.Tensor(\n",
    "            np.random.uniform(-opt.epsilon, opt.epsilon, [1, 1, opt.hidden_size])\n",
    "        ).expand([1, opt.batch_size, opt.hidden_size]))\n",
    "        self.c0 = t.nn.Parameter(t.Tensor(\n",
    "            np.random.uniform(-opt.epsilon, opt.epsilon, [1, 1, opt.hidden_size])\n",
    "        ).expand([1, opt.batch_size, opt.hidden_size]))\n",
    "        \n",
    "        self.Wh = t.nn.Parameter(\n",
    "            t.Tensor(\n",
    "                np.random.uniform(-opt.epsilon, opt.epsilon, [opt.hidden_size, opt.hidden_size])\n",
    "            )\n",
    "        )\n",
    "        self.LayerNorm_Wh = nn.LayerNorm([opt.batch_size, opt.max_seq_len, opt.hidden_size])\n",
    "        \n",
    "        self.Wv = t.nn.Parameter(\n",
    "            t.Tensor(\n",
    "                np.random.uniform(-opt.epsilon, opt.epsilon, [opt.hidden_size, opt.hidden_size])\n",
    "            )\n",
    "        )\n",
    "        self.LayerNorm_Wv = nn.LayerNorm([opt.batch_size, opt.max_seq_len, opt.hidden_size])\n",
    "        \n",
    "        self.omega = t.nn.Parameter(\n",
    "            t.Tensor(\n",
    "                np.random.uniform(-opt.epsilon, opt.epsilon, opt.hidden_size*2)\n",
    "            ).view(opt.hidden_size*2, 1)\n",
    "        )\n",
    "        \n",
    "        self.LayerNorm_alpha = nn.LayerNorm([opt.batch_size, opt.max_seq_len, 1])\n",
    "        \n",
    "        self.Wp = t.nn.Parameter(\n",
    "            t.Tensor(\n",
    "                np.random.uniform(-opt.epsilon, opt.epsilon, [opt.hidden_size, opt.hidden_size])\n",
    "            )\n",
    "        )\n",
    "        self.Wx = t.nn.Parameter(\n",
    "            t.Tensor(\n",
    "                np.random.uniform(-opt.epsilon, opt.epsilon, [opt.hidden_size, opt.hidden_size])\n",
    "            )\n",
    "        )\n",
    "        self.LayerNorm_summary = nn.LayerNorm([opt.batch_size, opt.hidden_size])\n",
    "        \n",
    "        self.lin = nn.Linear(opt.hidden_size, opt.classes)\n",
    "        for k in self.lin.state_dict().keys():\n",
    "            self.lin.state_dict()[k].uniform_(-opt.epsilon, opt.epsilon)\n",
    "        \n",
    "        if opt.use_myAttentionMechanism:\n",
    "            self.myPrjoectionMatrix = t.nn.Parameter(\n",
    "                t.eye(opt.hidden_size)*opt.epsilon\n",
    "            )\n",
    "            self.model_name += '_usMyAttentionMechanism'\n",
    "        \n",
    "        return\n",
    "    \n",
    "    def forward(self, sentence, term, returnAttention=False):\n",
    "        \n",
    "        # sentence: [batch_size, max_seq_len]\n",
    "        # term: [batch_size, max_term_len]\n",
    "        \n",
    "        sentence_attention_mask = (sentence==0).float()*-10000 # [batch_size, max_seq_len] This is a mask over <PADDING> tokens\n",
    "        \n",
    "        sentence_embeddings = self.embedding(sentence) # [batch_size, max_seq_len, hidden_size]\n",
    "        term_embeddings = []\n",
    "        for batch in range(term.size(0)):\n",
    "            valid_length = (term[batch, :] != 0).sum()\n",
    "            term_embeddings.append(self.embedding(term[batch, :valid_length]).mean(dim=0).unsqueeze(dim=0))\n",
    "        aspect_embeddings = t.cat(term_embeddings, dim=0) # [batch_size, hidden_size]\n",
    "        e1 = sentence_embeddings\n",
    "        e2 = aspect_embeddings.view(opt.batch_size,1,opt.hidden_size).expand(opt.batch_size,opt.max_seq_len,opt.hidden_size)\n",
    "        \n",
    "        # e1: [batch_size, max_seq_len, hidden_size]\n",
    "        # e2: [batch_size, max_seq_len, hidden_size]\n",
    "        \n",
    "        wv = t.cat((e1,e2),dim=-1)\n",
    "        # wv: [batch_size, max_seq_len, 2*hidden_size]\n",
    "        \n",
    "        out, (h, c) = self.lstm(wv, (self.h0, self.c0))\n",
    "        # e.g.\n",
    "        # out: [batch_size, max_seq_len, hidden_size]\n",
    "        # h: [1, batch_size, hidden_size]\n",
    "        # c: [1, batch_size, hidden_size]\n",
    "        \n",
    "        N_valid = (sentence!=0).sum(dim=1).squeeze().long()\n",
    "        for i_batch in range(opt.batch_size):\n",
    "            h[:, i_batch, :] = out[i_batch, N_valid[i_batch]-1, :]\n",
    "            \n",
    "        if opt.use_myAttentionMechanism:\n",
    "            alpha_ = t.matmul(t.matmul(out, self.myPrjoectionMatrix), aspect_embeddings.unsqueeze(dim=2))\n",
    "        \n",
    "        else:\n",
    "            Wh_out = t.matmul(out, self.Wh)\n",
    "            if opt.use_layerNorm:\n",
    "                Wh_out = self.LayerNorm_Wh(Wh_out)\n",
    "            # [batch_size, max_seq_len, hidden_size]\n",
    "\n",
    "            Wv_aspect = t.matmul(\n",
    "                aspect_embeddings, self.Wv\n",
    "            ).view(\n",
    "                opt.batch_size,1,opt.hidden_size\n",
    "            ).expand(opt.batch_size,opt.max_seq_len,opt.hidden_size)\n",
    "            if opt.use_layerNorm:\n",
    "                Wv_aspect = self.LayerNorm_Wv(Wv_aspect)\n",
    "            # [batch_size, max_seq_len, hidden_size]\n",
    "\n",
    "            vh = t.cat((Wh_out, Wv_aspect), dim=2)\n",
    "            # [batch_size, max_seq_len, 2*hidden_size]\n",
    "\n",
    "            M = t.tanh(vh)\n",
    "            # [batch_size, max_seq_len, 2*hidden_size]\n",
    "\n",
    "            alpha_ = t.matmul(M, self.omega)\n",
    "            \n",
    "        if opt.use_layerNorm:\n",
    "            alpha_ = self.LayerNorm_alpha(alpha_)\n",
    "        alpha = nn.functional.softmax(\n",
    "            alpha_+sentence_attention_mask.unsqueeze(dim=2), dim=1\n",
    "        ).view(opt.batch_size,1,opt.max_seq_len)\n",
    "        # [batch_size, 1, max_seq_len]\n",
    "        \n",
    "        r = t.matmul(alpha, out)\n",
    "        # [batch_size, 1, hidden_size]\n",
    "        \n",
    "        summary = t.matmul(t.squeeze(r), self.Wp) + t.matmul(t.squeeze(h), self.Wx)\n",
    "        if opt.use_layerNorm:\n",
    "            summary = self.LayerNorm_summary(summary)\n",
    "        #_h_ = t.tanh(summary)\n",
    "        _h_ = t.nn.functional.leaky_relu(summary)\n",
    "        # [batch_size, hidden_size]\n",
    "        \n",
    "        y = nn.functional.softmax(self.lin(_h_), dim=1)\n",
    "        # [batch_size, num_classes]\n",
    "        \n",
    "        if not returnAttention:\n",
    "            return y\n",
    "        else:\n",
    "            return y, alpha"
   ]
  },
  {
   "cell_type": "code",
   "execution_count": 4,
   "metadata": {
    "scrolled": true
   },
   "outputs": [
    {
     "name": "stderr",
     "output_type": "stream",
     "text": [
      "100%|██████████| 100/100 [00:00<00:00, 99085.85it/s]\n",
      "100%|██████████| 100000/100000 [00:00<00:00, 239402.96it/s]\n",
      "100%|██████████| 100000/100000 [00:06<00:00, 16093.52it/s]"
     ]
    },
    {
     "name": "stdout",
     "output_type": "stream",
     "text": [
      "Embedding : successfully input 100000 pretrained word embeddings while 0 failed\n"
     ]
    },
    {
     "name": "stderr",
     "output_type": "stream",
     "text": [
      "\n"
     ]
    }
   ],
   "source": [
    "if __name__=='__main__':\n",
    "    testDataset = AspClas(opt.test_data_root)\n",
    "    testDataLoader = DataLoader(testDataset, batch_size=opt.batch_size, shuffle=True)"
   ]
  },
  {
   "cell_type": "code",
   "execution_count": 5,
   "metadata": {
    "scrolled": true
   },
   "outputs": [
    {
     "name": "stdout",
     "output_type": "stream",
     "text": [
      "Automatic pdb calling has been turned ON\n"
     ]
    },
    {
     "ename": "AssertionError",
     "evalue": "Torch not compiled with CUDA enabled",
     "output_type": "error",
     "traceback": [
      "\u001b[1;31m---------------------------------------------------------------------------\u001b[0m",
      "\u001b[1;31mAssertionError\u001b[0m                            Traceback (most recent call last)",
      "\u001b[1;32m<ipython-input-5-5102e3db7ff2>\u001b[0m in \u001b[0;36m<module>\u001b[1;34m\u001b[0m\n\u001b[0;32m      1\u001b[0m \u001b[1;32mif\u001b[0m \u001b[0m__name__\u001b[0m\u001b[1;33m==\u001b[0m\u001b[1;34m'__main__'\u001b[0m\u001b[1;33m:\u001b[0m\u001b[1;33m\u001b[0m\u001b[1;33m\u001b[0m\u001b[0m\n\u001b[0;32m      2\u001b[0m     \u001b[0mget_ipython\u001b[0m\u001b[1;33m(\u001b[0m\u001b[1;33m)\u001b[0m\u001b[1;33m.\u001b[0m\u001b[0mrun_line_magic\u001b[0m\u001b[1;33m(\u001b[0m\u001b[1;34m'pdb'\u001b[0m\u001b[1;33m,\u001b[0m \u001b[1;34m'on'\u001b[0m\u001b[1;33m)\u001b[0m\u001b[1;33m\u001b[0m\u001b[1;33m\u001b[0m\u001b[0m\n\u001b[1;32m----> 3\u001b[1;33m     \u001b[0mmodel\u001b[0m \u001b[1;33m=\u001b[0m \u001b[0mATAE_LSTM\u001b[0m\u001b[1;33m(\u001b[0m\u001b[0mtestDataset\u001b[0m\u001b[1;33m.\u001b[0m\u001b[0memb\u001b[0m\u001b[1;33m)\u001b[0m\u001b[1;33m.\u001b[0m\u001b[0mcuda\u001b[0m\u001b[1;33m(\u001b[0m\u001b[1;33m)\u001b[0m\u001b[1;33m\u001b[0m\u001b[1;33m\u001b[0m\u001b[0m\n\u001b[0m\u001b[0;32m      4\u001b[0m     \u001b[0msentence\u001b[0m\u001b[1;33m,\u001b[0m \u001b[0mterms\u001b[0m\u001b[1;33m,\u001b[0m \u001b[0mlabel\u001b[0m \u001b[1;33m=\u001b[0m \u001b[0mlist\u001b[0m\u001b[1;33m(\u001b[0m\u001b[0mtestDataLoader\u001b[0m\u001b[1;33m)\u001b[0m\u001b[1;33m[\u001b[0m\u001b[1;36m0\u001b[0m\u001b[1;33m]\u001b[0m\u001b[1;33m\u001b[0m\u001b[1;33m\u001b[0m\u001b[0m\n\u001b[0;32m      5\u001b[0m     \u001b[0mprint\u001b[0m\u001b[1;33m(\u001b[0m\u001b[0msentence\u001b[0m\u001b[1;33m)\u001b[0m\u001b[1;33m\u001b[0m\u001b[1;33m\u001b[0m\u001b[0m\n",
      "\u001b[1;32mc:\\Users\\SEONGGYUN\\anaconda3\\envs\\modeling23-2\\lib\\site-packages\\torch\\nn\\modules\\module.py\u001b[0m in \u001b[0;36mcuda\u001b[1;34m(self, device)\u001b[0m\n\u001b[0;32m    258\u001b[0m             \u001b[0mModule\u001b[0m\u001b[1;33m:\u001b[0m \u001b[0mself\u001b[0m\u001b[1;33m\u001b[0m\u001b[1;33m\u001b[0m\u001b[0m\n\u001b[0;32m    259\u001b[0m         \"\"\"\n\u001b[1;32m--> 260\u001b[1;33m         \u001b[1;32mreturn\u001b[0m \u001b[0mself\u001b[0m\u001b[1;33m.\u001b[0m\u001b[0m_apply\u001b[0m\u001b[1;33m(\u001b[0m\u001b[1;32mlambda\u001b[0m \u001b[0mt\u001b[0m\u001b[1;33m:\u001b[0m \u001b[0mt\u001b[0m\u001b[1;33m.\u001b[0m\u001b[0mcuda\u001b[0m\u001b[1;33m(\u001b[0m\u001b[0mdevice\u001b[0m\u001b[1;33m)\u001b[0m\u001b[1;33m)\u001b[0m\u001b[1;33m\u001b[0m\u001b[1;33m\u001b[0m\u001b[0m\n\u001b[0m\u001b[0;32m    261\u001b[0m \u001b[1;33m\u001b[0m\u001b[0m\n\u001b[0;32m    262\u001b[0m     \u001b[1;32mdef\u001b[0m \u001b[0mcpu\u001b[0m\u001b[1;33m(\u001b[0m\u001b[0mself\u001b[0m\u001b[1;33m)\u001b[0m\u001b[1;33m:\u001b[0m\u001b[1;33m\u001b[0m\u001b[1;33m\u001b[0m\u001b[0m\n",
      "\u001b[1;32mc:\\Users\\SEONGGYUN\\anaconda3\\envs\\modeling23-2\\lib\\site-packages\\torch\\nn\\modules\\module.py\u001b[0m in \u001b[0;36m_apply\u001b[1;34m(self, fn)\u001b[0m\n\u001b[0;32m    185\u001b[0m     \u001b[1;32mdef\u001b[0m \u001b[0m_apply\u001b[0m\u001b[1;33m(\u001b[0m\u001b[0mself\u001b[0m\u001b[1;33m,\u001b[0m \u001b[0mfn\u001b[0m\u001b[1;33m)\u001b[0m\u001b[1;33m:\u001b[0m\u001b[1;33m\u001b[0m\u001b[1;33m\u001b[0m\u001b[0m\n\u001b[0;32m    186\u001b[0m         \u001b[1;32mfor\u001b[0m \u001b[0mmodule\u001b[0m \u001b[1;32min\u001b[0m \u001b[0mself\u001b[0m\u001b[1;33m.\u001b[0m\u001b[0mchildren\u001b[0m\u001b[1;33m(\u001b[0m\u001b[1;33m)\u001b[0m\u001b[1;33m:\u001b[0m\u001b[1;33m\u001b[0m\u001b[1;33m\u001b[0m\u001b[0m\n\u001b[1;32m--> 187\u001b[1;33m             \u001b[0mmodule\u001b[0m\u001b[1;33m.\u001b[0m\u001b[0m_apply\u001b[0m\u001b[1;33m(\u001b[0m\u001b[0mfn\u001b[0m\u001b[1;33m)\u001b[0m\u001b[1;33m\u001b[0m\u001b[1;33m\u001b[0m\u001b[0m\n\u001b[0m\u001b[0;32m    188\u001b[0m \u001b[1;33m\u001b[0m\u001b[0m\n\u001b[0;32m    189\u001b[0m         \u001b[1;32mfor\u001b[0m \u001b[0mparam\u001b[0m \u001b[1;32min\u001b[0m \u001b[0mself\u001b[0m\u001b[1;33m.\u001b[0m\u001b[0m_parameters\u001b[0m\u001b[1;33m.\u001b[0m\u001b[0mvalues\u001b[0m\u001b[1;33m(\u001b[0m\u001b[1;33m)\u001b[0m\u001b[1;33m:\u001b[0m\u001b[1;33m\u001b[0m\u001b[1;33m\u001b[0m\u001b[0m\n",
      "\u001b[1;32mc:\\Users\\SEONGGYUN\\anaconda3\\envs\\modeling23-2\\lib\\site-packages\\torch\\nn\\modules\\module.py\u001b[0m in \u001b[0;36m_apply\u001b[1;34m(self, fn)\u001b[0m\n\u001b[0;32m    191\u001b[0m                 \u001b[1;31m# Tensors stored in modules are graph leaves, and we don't\u001b[0m\u001b[1;33m\u001b[0m\u001b[1;33m\u001b[0m\u001b[1;33m\u001b[0m\u001b[0m\n\u001b[0;32m    192\u001b[0m                 \u001b[1;31m# want to create copy nodes, so we have to unpack the data.\u001b[0m\u001b[1;33m\u001b[0m\u001b[1;33m\u001b[0m\u001b[1;33m\u001b[0m\u001b[0m\n\u001b[1;32m--> 193\u001b[1;33m                 \u001b[0mparam\u001b[0m\u001b[1;33m.\u001b[0m\u001b[0mdata\u001b[0m \u001b[1;33m=\u001b[0m \u001b[0mfn\u001b[0m\u001b[1;33m(\u001b[0m\u001b[0mparam\u001b[0m\u001b[1;33m.\u001b[0m\u001b[0mdata\u001b[0m\u001b[1;33m)\u001b[0m\u001b[1;33m\u001b[0m\u001b[1;33m\u001b[0m\u001b[0m\n\u001b[0m\u001b[0;32m    194\u001b[0m                 \u001b[1;32mif\u001b[0m \u001b[0mparam\u001b[0m\u001b[1;33m.\u001b[0m\u001b[0m_grad\u001b[0m \u001b[1;32mis\u001b[0m \u001b[1;32mnot\u001b[0m \u001b[1;32mNone\u001b[0m\u001b[1;33m:\u001b[0m\u001b[1;33m\u001b[0m\u001b[1;33m\u001b[0m\u001b[0m\n\u001b[0;32m    195\u001b[0m                     \u001b[0mparam\u001b[0m\u001b[1;33m.\u001b[0m\u001b[0m_grad\u001b[0m\u001b[1;33m.\u001b[0m\u001b[0mdata\u001b[0m \u001b[1;33m=\u001b[0m \u001b[0mfn\u001b[0m\u001b[1;33m(\u001b[0m\u001b[0mparam\u001b[0m\u001b[1;33m.\u001b[0m\u001b[0m_grad\u001b[0m\u001b[1;33m.\u001b[0m\u001b[0mdata\u001b[0m\u001b[1;33m)\u001b[0m\u001b[1;33m\u001b[0m\u001b[1;33m\u001b[0m\u001b[0m\n",
      "\u001b[1;32mc:\\Users\\SEONGGYUN\\anaconda3\\envs\\modeling23-2\\lib\\site-packages\\torch\\nn\\modules\\module.py\u001b[0m in \u001b[0;36m<lambda>\u001b[1;34m(t)\u001b[0m\n\u001b[0;32m    258\u001b[0m             \u001b[0mModule\u001b[0m\u001b[1;33m:\u001b[0m \u001b[0mself\u001b[0m\u001b[1;33m\u001b[0m\u001b[1;33m\u001b[0m\u001b[0m\n\u001b[0;32m    259\u001b[0m         \"\"\"\n\u001b[1;32m--> 260\u001b[1;33m         \u001b[1;32mreturn\u001b[0m \u001b[0mself\u001b[0m\u001b[1;33m.\u001b[0m\u001b[0m_apply\u001b[0m\u001b[1;33m(\u001b[0m\u001b[1;32mlambda\u001b[0m \u001b[0mt\u001b[0m\u001b[1;33m:\u001b[0m \u001b[0mt\u001b[0m\u001b[1;33m.\u001b[0m\u001b[0mcuda\u001b[0m\u001b[1;33m(\u001b[0m\u001b[0mdevice\u001b[0m\u001b[1;33m)\u001b[0m\u001b[1;33m)\u001b[0m\u001b[1;33m\u001b[0m\u001b[1;33m\u001b[0m\u001b[0m\n\u001b[0m\u001b[0;32m    261\u001b[0m \u001b[1;33m\u001b[0m\u001b[0m\n\u001b[0;32m    262\u001b[0m     \u001b[1;32mdef\u001b[0m \u001b[0mcpu\u001b[0m\u001b[1;33m(\u001b[0m\u001b[0mself\u001b[0m\u001b[1;33m)\u001b[0m\u001b[1;33m:\u001b[0m\u001b[1;33m\u001b[0m\u001b[1;33m\u001b[0m\u001b[0m\n",
      "\u001b[1;32mc:\\Users\\SEONGGYUN\\anaconda3\\envs\\modeling23-2\\lib\\site-packages\\torch\\cuda\\__init__.py\u001b[0m in \u001b[0;36m_lazy_init\u001b[1;34m()\u001b[0m\n\u001b[0;32m    159\u001b[0m         raise RuntimeError(\n\u001b[0;32m    160\u001b[0m             \"Cannot re-initialize CUDA in forked subprocess. \" + msg)\n\u001b[1;32m--> 161\u001b[1;33m     \u001b[0m_check_driver\u001b[0m\u001b[1;33m(\u001b[0m\u001b[1;33m)\u001b[0m\u001b[1;33m\u001b[0m\u001b[1;33m\u001b[0m\u001b[0m\n\u001b[0m\u001b[0;32m    162\u001b[0m     \u001b[0mtorch\u001b[0m\u001b[1;33m.\u001b[0m\u001b[0m_C\u001b[0m\u001b[1;33m.\u001b[0m\u001b[0m_cuda_init\u001b[0m\u001b[1;33m(\u001b[0m\u001b[1;33m)\u001b[0m\u001b[1;33m\u001b[0m\u001b[1;33m\u001b[0m\u001b[0m\n\u001b[0;32m    163\u001b[0m     \u001b[0m_cudart\u001b[0m \u001b[1;33m=\u001b[0m \u001b[0m_load_cudart\u001b[0m\u001b[1;33m(\u001b[0m\u001b[1;33m)\u001b[0m\u001b[1;33m\u001b[0m\u001b[1;33m\u001b[0m\u001b[0m\n",
      "\u001b[1;32mc:\\Users\\SEONGGYUN\\anaconda3\\envs\\modeling23-2\\lib\\site-packages\\torch\\cuda\\__init__.py\u001b[0m in \u001b[0;36m_check_driver\u001b[1;34m()\u001b[0m\n\u001b[0;32m     73\u001b[0m \u001b[1;32mdef\u001b[0m \u001b[0m_check_driver\u001b[0m\u001b[1;33m(\u001b[0m\u001b[1;33m)\u001b[0m\u001b[1;33m:\u001b[0m\u001b[1;33m\u001b[0m\u001b[1;33m\u001b[0m\u001b[0m\n\u001b[0;32m     74\u001b[0m     \u001b[1;32mif\u001b[0m \u001b[1;32mnot\u001b[0m \u001b[0mhasattr\u001b[0m\u001b[1;33m(\u001b[0m\u001b[0mtorch\u001b[0m\u001b[1;33m.\u001b[0m\u001b[0m_C\u001b[0m\u001b[1;33m,\u001b[0m \u001b[1;34m'_cuda_isDriverSufficient'\u001b[0m\u001b[1;33m)\u001b[0m\u001b[1;33m:\u001b[0m\u001b[1;33m\u001b[0m\u001b[1;33m\u001b[0m\u001b[0m\n\u001b[1;32m---> 75\u001b[1;33m         \u001b[1;32mraise\u001b[0m \u001b[0mAssertionError\u001b[0m\u001b[1;33m(\u001b[0m\u001b[1;34m\"Torch not compiled with CUDA enabled\"\u001b[0m\u001b[1;33m)\u001b[0m\u001b[1;33m\u001b[0m\u001b[1;33m\u001b[0m\u001b[0m\n\u001b[0m\u001b[0;32m     76\u001b[0m     \u001b[1;32mif\u001b[0m \u001b[1;32mnot\u001b[0m \u001b[0mtorch\u001b[0m\u001b[1;33m.\u001b[0m\u001b[0m_C\u001b[0m\u001b[1;33m.\u001b[0m\u001b[0m_cuda_isDriverSufficient\u001b[0m\u001b[1;33m(\u001b[0m\u001b[1;33m)\u001b[0m\u001b[1;33m:\u001b[0m\u001b[1;33m\u001b[0m\u001b[1;33m\u001b[0m\u001b[0m\n\u001b[0;32m     77\u001b[0m         \u001b[1;32mif\u001b[0m \u001b[0mtorch\u001b[0m\u001b[1;33m.\u001b[0m\u001b[0m_C\u001b[0m\u001b[1;33m.\u001b[0m\u001b[0m_cuda_getDriverVersion\u001b[0m\u001b[1;33m(\u001b[0m\u001b[1;33m)\u001b[0m \u001b[1;33m==\u001b[0m \u001b[1;36m0\u001b[0m\u001b[1;33m:\u001b[0m\u001b[1;33m\u001b[0m\u001b[1;33m\u001b[0m\u001b[0m\n",
      "\u001b[1;31mAssertionError\u001b[0m: Torch not compiled with CUDA enabled"
     ]
    },
    {
     "name": "stdout",
     "output_type": "stream",
     "text": [
      "> \u001b[1;32mc:\\users\\seonggyun\\anaconda3\\envs\\modeling23-2\\lib\\site-packages\\torch\\cuda\\__init__.py\u001b[0m(75)\u001b[0;36m_check_driver\u001b[1;34m()\u001b[0m\n",
      "\u001b[1;32m     73 \u001b[1;33m\u001b[1;32mdef\u001b[0m \u001b[0m_check_driver\u001b[0m\u001b[1;33m(\u001b[0m\u001b[1;33m)\u001b[0m\u001b[1;33m:\u001b[0m\u001b[1;33m\u001b[0m\u001b[1;33m\u001b[0m\u001b[0m\n",
      "\u001b[0m\u001b[1;32m     74 \u001b[1;33m    \u001b[1;32mif\u001b[0m \u001b[1;32mnot\u001b[0m \u001b[0mhasattr\u001b[0m\u001b[1;33m(\u001b[0m\u001b[0mtorch\u001b[0m\u001b[1;33m.\u001b[0m\u001b[0m_C\u001b[0m\u001b[1;33m,\u001b[0m \u001b[1;34m'_cuda_isDriverSufficient'\u001b[0m\u001b[1;33m)\u001b[0m\u001b[1;33m:\u001b[0m\u001b[1;33m\u001b[0m\u001b[1;33m\u001b[0m\u001b[0m\n",
      "\u001b[0m\u001b[1;32m---> 75 \u001b[1;33m        \u001b[1;32mraise\u001b[0m \u001b[0mAssertionError\u001b[0m\u001b[1;33m(\u001b[0m\u001b[1;34m\"Torch not compiled with CUDA enabled\"\u001b[0m\u001b[1;33m)\u001b[0m\u001b[1;33m\u001b[0m\u001b[1;33m\u001b[0m\u001b[0m\n",
      "\u001b[0m\u001b[1;32m     76 \u001b[1;33m    \u001b[1;32mif\u001b[0m \u001b[1;32mnot\u001b[0m \u001b[0mtorch\u001b[0m\u001b[1;33m.\u001b[0m\u001b[0m_C\u001b[0m\u001b[1;33m.\u001b[0m\u001b[0m_cuda_isDriverSufficient\u001b[0m\u001b[1;33m(\u001b[0m\u001b[1;33m)\u001b[0m\u001b[1;33m:\u001b[0m\u001b[1;33m\u001b[0m\u001b[1;33m\u001b[0m\u001b[0m\n",
      "\u001b[0m\u001b[1;32m     77 \u001b[1;33m        \u001b[1;32mif\u001b[0m \u001b[0mtorch\u001b[0m\u001b[1;33m.\u001b[0m\u001b[0m_C\u001b[0m\u001b[1;33m.\u001b[0m\u001b[0m_cuda_getDriverVersion\u001b[0m\u001b[1;33m(\u001b[0m\u001b[1;33m)\u001b[0m \u001b[1;33m==\u001b[0m \u001b[1;36m0\u001b[0m\u001b[1;33m:\u001b[0m\u001b[1;33m\u001b[0m\u001b[1;33m\u001b[0m\u001b[0m\n",
      "\u001b[0m\n"
     ]
    }
   ],
   "source": [
    "if __name__=='__main__':\n",
    "    %pdb on\n",
    "    model = ATAE_LSTM(testDataset.emb).cuda()\n",
    "    sentence, terms, label = list(testDataLoader)[0]\n",
    "    print(sentence)\n",
    "    print(terms)\n",
    "    print(label)\n",
    "    y, attention = model(sentence.cuda(), terms.cuda(), returnAttention=True)\n",
    "    print(y)\n",
    "    print(attention.tolist())"
   ]
  },
  {
   "cell_type": "markdown",
   "metadata": {},
   "source": [
    "\n",
    "Layer Normalization:<br>\n",
    "$y = \\frac{x - \\mathrm{E}[x]}{ \\sqrt{\\mathrm{Var}[x] + \\epsilon}} * \\gamma + \\beta$"
   ]
  }
 ],
 "metadata": {
  "kernelspec": {
   "display_name": "Python 3",
   "language": "python",
   "name": "python3"
  },
  "language_info": {
   "codemirror_mode": {
    "name": "ipython",
    "version": 3
   },
   "file_extension": ".py",
   "mimetype": "text/x-python",
   "name": "python",
   "nbconvert_exporter": "python",
   "pygments_lexer": "ipython3",
   "version": "3.6.13"
  }
 },
 "nbformat": 4,
 "nbformat_minor": 2
}
