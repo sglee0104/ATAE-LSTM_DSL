{
 "cells": [
  {
   "cell_type": "code",
   "execution_count": 1,
   "metadata": {},
   "outputs": [],
   "source": [
    "#coding:utf-8\n",
    "import numpy as np\n",
    "import torch as t\n",
    "from nltk.tokenize import word_tokenize\n",
    "from torch import nn\n",
    "from tqdm import tqdm"
   ]
  },
  {
   "cell_type": "code",
   "execution_count": 2,
   "metadata": {},
   "outputs": [],
   "source": [
    "import sys\n",
    "sys.path.append('C:/Users/SEONGGYUN/ATAE-LSTM/ATAE-LSTM')\n",
    "import Ipynb_importer\n",
    "from config import opt"
   ]
  },
  {
   "cell_type": "code",
   "execution_count": 9,
   "metadata": {},
   "outputs": [],
   "source": [
    "class Emb(object):\n",
    "    def __init__(self):\n",
    "        # create and init the items below\n",
    "        # self.embedding   string word ==> np.ndarray vector\n",
    "        self.embedding = {}\n",
    "        \n",
    "        # load the pre-trained data\n",
    "        with open(opt.embedding_root, 'r', encoding='UTF-8') as f:\n",
    "            lines = []\n",
    "            for i in tqdm(range(opt.word_max_input)):\n",
    "                line = f.readline()\n",
    "                if line != \"\":\n",
    "                    lines.append(line)\n",
    "            \n",
    "            line_success = 0\n",
    "            line_fail = 0\n",
    "            for line in tqdm(lines):\n",
    "                # l : \"a 0.1 0.2 0.3 ...\"\n",
    "                if line[-1] == '\\n':\n",
    "                    line = line[:-1]\n",
    "                token_and_vector = line.split(' ')\n",
    "                if not len(token_and_vector)==opt.hidden_size + 1:\n",
    "                    line_fail += 1\n",
    "                    continue\n",
    "                token, vector = token_and_vector[0], token_and_vector[1:]\n",
    "                self.embedding[token.lower()] = np.array(vector, dtype=float)\n",
    "                line_success += 1\n",
    "            print('Embedding : successfully input {} pretrained word embeddings while {} failed'.format(line_success, line_fail))\n",
    "        \n",
    "        # create the items to modify and use dynamically below\n",
    "        # self.dictionary    string word ==> int index\n",
    "        # self.words         int index ==> string word\n",
    "        # self.no_pretrained string word ==> int appearance\n",
    "        self.dictionary = {}\n",
    "        self.words = []\n",
    "        self.no_pretrained = {}\n",
    "        \n",
    "        self.dictionary[\"<PADDING>\"] = 0\n",
    "        self.dictionary[\"<UNKNOWN>\"] = 1\n",
    "        self.words += [\"<PADDING>\", \"<UNKNOWN>\"]\n",
    "        self.embedding[\"<PADDING>\"] = np.zeros(opt.hidden_size, dtype=float)\n",
    "        self.embedding[\"<UNKNOWN>\"] = np.random.uniform(-opt.epsilon, opt.epsilon, opt.hidden_size)\n",
    "        \n",
    "        return\n",
    "    \n",
    "    def _get_dic_(self):\n",
    "        return self.dictionary\n",
    "    \n",
    "    def _get_words_(self):\n",
    "        return self.words\n",
    "    \n",
    "    def tokenize(self, sentence, max_length = opt.max_seq_len):\n",
    "        sentence = word_tokenize(sentence)\n",
    "        re = []\n",
    "        for word in sentence:\n",
    "            word = word.lower()\n",
    "            if word in self.dictionary.keys():\n",
    "                re.append(self.dictionary[word])\n",
    "            else:\n",
    "                re.append(self.dictionary[\"<UNKNOWN>\"])\n",
    "        assert len(re) <= max_length, \"the input sentence exceeded the max_length: {}>{}\".format(len(re), max_length)\n",
    "        re += [self.dictionary[\"<PADDING>\"]]*(max_length-len(re))\n",
    "        return t.Tensor(re).long()\n",
    "    \n",
    "    def _make_layer_(self):\n",
    "        weight = []\n",
    "        for word in self.words:\n",
    "            weight.append(self.embedding[word])\n",
    "        \n",
    "        layer = nn.Embedding.from_pretrained(t.FloatTensor(weight), freeze=False) #, padding_idx=0\n",
    "        \n",
    "        return layer\n",
    "    \n",
    "    def _add_word_(self, sentence):\n",
    "        # para sentence : a string to be tokenized by nltk.tokenize.word_tokenize\n",
    "        sentence = word_tokenize(sentence)\n",
    "        for word in sentence:\n",
    "            word = word.lower()\n",
    "            if word in self.dictionary:\n",
    "                continue\n",
    "            elif word in self.embedding:\n",
    "                # add this word into self.dictionary and self.words\n",
    "                self.dictionary[word] = len(self.words)\n",
    "                self.words.append(word)\n",
    "                assert len(self.dictionary) == len(self.words)\n",
    "            else:\n",
    "                # word can reach only if there's no pre-trained embedding for it\n",
    "                # if it's only a word that appears for too few times to be important\n",
    "                # it will be treat as '_UNKNOWN_' which means all these low-frequency words share a same embedding\n",
    "                if word not in self.no_pretrained:\n",
    "                    self.no_pretrained[word] = 1\n",
    "                else:\n",
    "                    self.no_pretrained[word] += 1\n",
    "                # if this no-pretrained word appears for at least opt.word_independence times\n",
    "                # set an indepent embedding for it\n",
    "                if self.no_pretrained[word] >= opt.word_independence:\n",
    "                    self.no_pretrained.pop(word)\n",
    "                    self.dictionary[word] = len(self.words)\n",
    "                    self.words.append(word)\n",
    "                    assert len(self.dictionary) == len(self.words)\n",
    "\n",
    "                    # set an indepent embedding for it\n",
    "                    # init from U(-ε,ε) \n",
    "                    self.embedding[word] = np.random.uniform(-opt.epsilon, opt.epsilon, opt.hidden_size)\n",
    "        return"
   ]
  },
  {
   "cell_type": "code",
   "execution_count": 7,
   "metadata": {},
   "outputs": [
    {
     "name": "stderr",
     "output_type": "stream",
     "text": [
      "[nltk_data] Downloading package punkt to\n",
      "[nltk_data]     C:\\Users\\SEONGGYUN\\AppData\\Roaming\\nltk_data...\n",
      "[nltk_data]   Unzipping tokenizers\\punkt.zip.\n"
     ]
    },
    {
     "data": {
      "text/plain": [
       "True"
      ]
     },
     "execution_count": 7,
     "metadata": {},
     "output_type": "execute_result"
    }
   ],
   "source": [
    "import nltk\n",
    "nltk.download('punkt')"
   ]
  },
  {
   "cell_type": "code",
   "execution_count": 14,
   "metadata": {
    "scrolled": false
   },
   "outputs": [
    {
     "name": "stderr",
     "output_type": "stream",
     "text": [
      "100%|██████████| 100000/100000 [00:00<00:00, 180598.87it/s]\n",
      "100%|██████████| 100000/100000 [00:06<00:00, 15861.31it/s]\n"
     ]
    },
    {
     "name": "stdout",
     "output_type": "stream",
     "text": [
      "Embedding : successfully input 100000 pretrained word embeddings while 0 failed\n",
      "tensor([1, 1, 1, 1, 1, 1, 1, 1, 1, 1, 1, 1, 1, 1, 1, 1, 1, 1, 1, 1, 1, 0, 0, 0,\n",
      "        0, 0, 0, 0, 0, 0, 0, 0, 0, 0, 0, 0, 0, 0, 0, 0, 0, 0, 0, 0, 0, 0, 0, 0,\n",
      "        0, 0, 0, 0, 0, 0, 0, 0, 0, 0, 0, 0, 0, 0, 0, 0, 0, 0, 0, 0, 0, 0, 0, 0,\n",
      "        0, 0, 0, 0, 0, 0, 0, 0, 0, 0, 0, 0, 0, 0, 0, 0, 0, 0, 0, 0, 0, 0, 0, 0,\n",
      "        0, 0, 0, 0, 0, 0, 0, 0, 0, 0, 0, 0, 0, 0, 0, 0, 0, 0, 0, 0, 0, 0, 0, 0,\n",
      "        0, 0, 0, 0, 0, 0, 0, 0])\n",
      "tensor([ 2,  3,  4,  5,  6,  7,  8,  9,  3, 10, 11, 12, 13,  5,  3, 14, 11, 15,\n",
      "        16, 16, 16,  0,  0,  0,  0,  0,  0,  0,  0,  0,  0,  0,  0,  0,  0,  0,\n",
      "         0,  0,  0,  0,  0,  0,  0,  0,  0,  0,  0,  0,  0,  0,  0,  0,  0,  0,\n",
      "         0,  0,  0,  0,  0,  0,  0,  0,  0,  0,  0,  0,  0,  0,  0,  0,  0,  0,\n",
      "         0,  0,  0,  0,  0,  0,  0,  0,  0,  0,  0,  0,  0,  0,  0,  0,  0,  0,\n",
      "         0,  0,  0,  0,  0,  0,  0,  0,  0,  0,  0,  0,  0,  0,  0,  0,  0,  0,\n",
      "         0,  0,  0,  0,  0,  0,  0,  0,  0,  0,  0,  0,  0,  0,  0,  0,  0,  0,\n",
      "         0,  0])\n",
      "300\n",
      "17\n"
     ]
    }
   ],
   "source": [
    "if __name__=='__main__':\n",
    "    emb = Emb()\n",
    "    sentence = 'All the appetizers and salads were fabulous, the steak was mouth watering and the pasta was delicious!!!'\n",
    "    print(emb.tokenize(sentence))\n",
    "    emb._add_word_(sentence)\n",
    "    print(emb.tokenize(sentence))\n",
    "    print(emb._make_layer_().embedding_dim)\n",
    "    print(emb._make_layer_().num_embeddings)"
   ]
  },
  {
   "cell_type": "code",
   "execution_count": null,
   "metadata": {},
   "outputs": [],
   "source": []
  }
 ],
 "metadata": {
  "kernelspec": {
   "display_name": "Python 3",
   "language": "python",
   "name": "python3"
  },
  "language_info": {
   "codemirror_mode": {
    "name": "ipython",
    "version": 3
   },
   "file_extension": ".py",
   "mimetype": "text/x-python",
   "name": "python",
   "nbconvert_exporter": "python",
   "pygments_lexer": "ipython3",
   "version": "3.6.13"
  }
 },
 "nbformat": 4,
 "nbformat_minor": 2
}
